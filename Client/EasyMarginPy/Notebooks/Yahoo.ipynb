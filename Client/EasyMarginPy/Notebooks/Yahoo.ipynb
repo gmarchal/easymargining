{
 "cells": [
  {
   "cell_type": "code",
   "execution_count": 15,
   "metadata": {},
   "outputs": [
    {
     "name": "stdout",
     "output_type": "stream",
     "text": [
      "43.97\n"
     ]
    }
   ],
   "source": [
    "import matplotlib.pyplot as plt\n",
    "from yahoo_finance import Share\n",
    "\n",
    "yahoo = Share('GLE.PA')\n",
    "print(yahoo.get_open())"
   ]
  },
  {
   "cell_type": "code",
   "execution_count": 4,
   "metadata": {},
   "outputs": [
    {
     "name": "stdout",
     "output_type": "stream",
     "text": [
      "44.10\n"
     ]
    }
   ],
   "source": [
    "print(yahoo.get_price())"
   ]
  },
  {
   "cell_type": "code",
   "execution_count": 3,
   "metadata": {},
   "outputs": [
    {
     "name": "stdout",
     "output_type": "stream",
     "text": [
      "2015-11-23 18:14:00 UTC+0000\n"
     ]
    }
   ],
   "source": [
    "print(yahoo.get_trade_datetime())"
   ]
  },
  {
   "cell_type": "code",
   "execution_count": 7,
   "metadata": {},
   "outputs": [
    {
     "name": "stdout",
     "output_type": "stream",
     "text": [
      "                  Open        High         Low       Close     Volume  \\\n",
      "Date                                                                    \n",
      "2015-11-16  202.320007  205.690002  202.179993  205.619995  112996000   \n",
      "2015-11-17  205.990005  207.039993  204.880005  205.470001  113429400   \n",
      "2015-11-18  206.039993  208.899994  205.990005  208.729996  113064100   \n",
      "2015-11-19  208.589996  209.050003  208.199997  208.550003   81363500   \n",
      "2015-11-20  209.449997  210.119995  208.860001  209.309998   89556300   \n",
      "\n",
      "             Adj Close  \n",
      "Date                    \n",
      "2015-11-16  205.619995  \n",
      "2015-11-17  205.470001  \n",
      "2015-11-18  208.729996  \n",
      "2015-11-19  208.550003  \n",
      "2015-11-20  209.309998  \n"
     ]
    },
    {
     "name": "stderr",
     "output_type": "stream",
     "text": [
      "C:\\Users\\Mederic\\Anaconda3\\lib\\site-packages\\pandas\\io\\data.py:33: FutureWarning: \n",
      "The pandas.io.data module is moved to a separate package (pandas-datareader) and will be removed from pandas in a future version.\n",
      "After installing the pandas-datareader package (https://github.com/pydata/pandas-datareader), you can change the import ``from pandas.io import data, wb`` to ``from pandas_datareader import data, wb``.\n",
      "  FutureWarning)\n"
     ]
    }
   ],
   "source": [
    "# download free end of day historical stock data\n",
    "# from yahoo finance using pandas\n",
    "import pandas.io.data as web\n",
    "from datetime import datetime\n",
    "    \n",
    "end = datetime.now()\n",
    "start = datetime(end.year - 5, end.month, end.day)\n",
    "df = web.DataReader(\"SPY\", 'yahoo', start, end)\n",
    "     \n",
    "print(df.tail())"
   ]
  },
  {
   "cell_type": "code",
   "execution_count": 8,
   "metadata": {},
   "outputs": [
    {
     "data": {
      "text/html": [
       "<div>\n",
       "<table border=\"1\" class=\"dataframe\">\n",
       "  <thead>\n",
       "    <tr style=\"text-align: right;\">\n",
       "      <th></th>\n",
       "      <th>Open</th>\n",
       "      <th>High</th>\n",
       "      <th>Low</th>\n",
       "      <th>Close</th>\n",
       "      <th>Volume</th>\n",
       "      <th>Adj Close</th>\n",
       "    </tr>\n",
       "  </thead>\n",
       "  <tbody>\n",
       "    <tr>\n",
       "      <th>count</th>\n",
       "      <td>1258.000000</td>\n",
       "      <td>1258.000000</td>\n",
       "      <td>1258.000000</td>\n",
       "      <td>1258.000000</td>\n",
       "      <td>1.258000e+03</td>\n",
       "      <td>1258.000000</td>\n",
       "    </tr>\n",
       "    <tr>\n",
       "      <th>mean</th>\n",
       "      <td>164.032583</td>\n",
       "      <td>164.829444</td>\n",
       "      <td>163.157433</td>\n",
       "      <td>164.056105</td>\n",
       "      <td>1.433550e+08</td>\n",
       "      <td>157.096542</td>\n",
       "    </tr>\n",
       "    <tr>\n",
       "      <th>std</th>\n",
       "      <td>31.388396</td>\n",
       "      <td>31.407090</td>\n",
       "      <td>31.340890</td>\n",
       "      <td>31.374607</td>\n",
       "      <td>7.297210e+07</td>\n",
       "      <td>34.454313</td>\n",
       "    </tr>\n",
       "    <tr>\n",
       "      <th>min</th>\n",
       "      <td>108.349998</td>\n",
       "      <td>112.580002</td>\n",
       "      <td>107.430000</td>\n",
       "      <td>109.930000</td>\n",
       "      <td>4.296340e+07</td>\n",
       "      <td>101.266098</td>\n",
       "    </tr>\n",
       "    <tr>\n",
       "      <th>25%</th>\n",
       "      <td>134.100003</td>\n",
       "      <td>134.749997</td>\n",
       "      <td>133.382504</td>\n",
       "      <td>134.170002</td>\n",
       "      <td>9.620550e+07</td>\n",
       "      <td>123.764447</td>\n",
       "    </tr>\n",
       "    <tr>\n",
       "      <th>50%</th>\n",
       "      <td>162.444999</td>\n",
       "      <td>163.444999</td>\n",
       "      <td>161.510002</td>\n",
       "      <td>162.805001</td>\n",
       "      <td>1.266836e+08</td>\n",
       "      <td>154.957855</td>\n",
       "    </tr>\n",
       "    <tr>\n",
       "      <th>75%</th>\n",
       "      <td>195.662495</td>\n",
       "      <td>196.575005</td>\n",
       "      <td>194.862499</td>\n",
       "      <td>195.720001</td>\n",
       "      <td>1.672368e+08</td>\n",
       "      <td>192.158077</td>\n",
       "    </tr>\n",
       "    <tr>\n",
       "      <th>max</th>\n",
       "      <td>213.240005</td>\n",
       "      <td>213.779999</td>\n",
       "      <td>212.910004</td>\n",
       "      <td>213.500000</td>\n",
       "      <td>7.178287e+08</td>\n",
       "      <td>211.520169</td>\n",
       "    </tr>\n",
       "  </tbody>\n",
       "</table>\n",
       "</div>"
      ]
     },
     "output_type": "execute_result",
     "metadata": {}
    }
   ],
   "source": [
    "# summary statistics accross the whole DataFrame\n",
    "df.describe()"
   ]
  },
  {
   "cell_type": "code",
   "execution_count": 9,
   "metadata": {},
   "outputs": [
    {
     "data": {
      "text/html": [
       "<div>\n",
       "<table border=\"1\" class=\"dataframe\">\n",
       "  <thead>\n",
       "    <tr style=\"text-align: right;\">\n",
       "      <th></th>\n",
       "      <th>Close</th>\n",
       "    </tr>\n",
       "    <tr>\n",
       "      <th>Date</th>\n",
       "      <th></th>\n",
       "    </tr>\n",
       "  </thead>\n",
       "  <tbody>\n",
       "    <tr>\n",
       "      <th>2015-11-16</th>\n",
       "      <td>205.619995</td>\n",
       "    </tr>\n",
       "    <tr>\n",
       "      <th>2015-11-17</th>\n",
       "      <td>205.470001</td>\n",
       "    </tr>\n",
       "    <tr>\n",
       "      <th>2015-11-18</th>\n",
       "      <td>208.729996</td>\n",
       "    </tr>\n",
       "    <tr>\n",
       "      <th>2015-11-19</th>\n",
       "      <td>208.550003</td>\n",
       "    </tr>\n",
       "    <tr>\n",
       "      <th>2015-11-20</th>\n",
       "      <td>209.309998</td>\n",
       "    </tr>\n",
       "  </tbody>\n",
       "</table>\n",
       "</div>"
      ]
     },
     "output_type": "execute_result",
     "metadata": {}
    }
   ],
   "source": [
    "# Closing price for most recent 5 trading days\n",
    "df[['Close']].tail()"
   ]
  },
  {
   "cell_type": "code",
   "execution_count": 12,
   "metadata": {},
   "outputs": [
    {
     "name": "stdout",
     "output_type": "stream",
     "text": [
      "Min: 42963400 Max: 717828700 Average: 143354991.415\n"
     ]
    }
   ],
   "source": [
    "# volume statistics\n",
    "vol = df[['Volume']]\n",
    "print(\"Min: %s Max: %s Average: %s\" % (vol.min().values[0], vol.max().values[0], vol.mean().values[0]))"
   ]
  },
  {
   "cell_type": "code",
   "execution_count": 19,
   "metadata": {},
   "outputs": [],
   "source": [
    "# plot the historical closing prices and volume using matplotlib\n",
    "plots = df[['Close', 'Volume']].plot(subplots=True, figsize=(10, 10))\n",
    "plt.show()"
   ]
  },
  {
   "cell_type": "code",
   "execution_count": 18,
   "metadata": {},
   "outputs": [],
   "source": [
    "# chart a basic 50 period moving average of the closing price\n",
    "import pandas as pd\n",
    "df['ma50'] = pd.rolling_mean(df['Close'], 50)\n",
    "df['ma200'] = pd.rolling_mean(df['Close'], 200)\n",
    "plots = df[['Close', 'ma50', 'ma200']].plot(subplots=False, figsize=(10, 4))\n",
    "plt.show()"
   ]
  },
  {
   "cell_type": "code",
   "execution_count": null,
   "metadata": {},
   "outputs": [],
   "source": [
    ""
   ]
  }
 ],
 "metadata": {
  "kernelspec": {
   "display_name": "Python 3",
   "language": "python",
   "name": "python3"
  },
  "language_info": {
   "codemirror_mode": {
    "name": "ipython",
    "version": 3.0
   },
   "file_extension": ".py",
   "mimetype": "text/x-python",
   "name": "python",
   "nbconvert_exporter": "python",
   "pygments_lexer": "ipython3",
   "version": "3.5.0"
  }
 },
 "nbformat": 4,
 "nbformat_minor": 0
}